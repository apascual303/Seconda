{
 "cells": [
  {
   "cell_type": "code",
   "execution_count": null,
   "id": "0b67e7eb",
   "metadata": {},
   "outputs": [],
   "source": [
    "'''Assignment #2, basic Python'''"
   ]
  },
  {
   "cell_type": "code",
   "execution_count": null,
   "id": "3edaeaaa",
   "metadata": {},
   "outputs": [],
   "source": [
    "import math"
   ]
  },
  {
   "cell_type": "code",
   "execution_count": null,
   "id": "65a2a248",
   "metadata": {},
   "outputs": [],
   "source": [
    "class Particle:\n",
    "    '''Defining general particle'''\n",
    "    def __init__(self, m, c, n, v):\n",
    "        self._mass = float(m)\n",
    "        self._charge = float(c)\n",
    "        self._name = str(n)\n",
    "        self.velocity = float(v)\n",
    "       \n",
    "    @property\n",
    "    def momentum(self):\n",
    "        return self._mass * self.velocity\n",
    "    \n",
    "    @property\n",
    "    def energy(self):\n",
    "        return math.sqrt(self.mass**2 + self.momentum**2)   \n",
    "    \n",
    "    @property\n",
    "    def beta(self):\n",
    "        return abs(self.velocity)\n",
    "    \n",
    "    @momentum.setter\n",
    "    def momentum(self, new_momentum):\n",
    "        return new_momentum\n",
    "    \n",
    "    @energy.setter\n",
    "    def energy(self, new_energy):\n",
    "        return new_energy\n",
    "    \n",
    "    @beta.setter\n",
    "    def beta(self, new_beta):\n",
    "        if new_beta < 1 and new_beta > 0:\n",
    "            return new_beta\n",
    "        else:\n",
    "            print('This value is not physical, you must set beta between 0 and 1')\n",
    "    \n",
    "    \n",
    "    \n",
    "    \n",
    "        "
   ]
  }
 ],
 "metadata": {
  "kernelspec": {
   "display_name": "Python 3 (ipykernel)",
   "language": "python",
   "name": "python3"
  },
  "language_info": {
   "codemirror_mode": {
    "name": "ipython",
    "version": 3
   },
   "file_extension": ".py",
   "mimetype": "text/x-python",
   "name": "python",
   "nbconvert_exporter": "python",
   "pygments_lexer": "ipython3",
   "version": "3.9.13"
  }
 },
 "nbformat": 4,
 "nbformat_minor": 5
}
