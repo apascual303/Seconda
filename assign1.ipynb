{
 "cells": [
  {
   "cell_type": "code",
   "execution_count": 2,
   "metadata": {
    "executionInfo": {
     "elapsed": 238,
     "status": "ok",
     "timestamp": 1668702355521,
     "user": {
      "displayName": "ANA PASCUAL ARANDA",
      "userId": "13184162611344250840"
     },
     "user_tz": -60
    },
    "id": "qREdj4kifzfb"
   },
   "outputs": [],
   "source": [
    "import os\n",
    "import string"
   ]
  },
  {
   "cell_type": "code",
   "execution_count": 3,
   "metadata": {
    "colab": {
     "base_uri": "https://localhost:8080/",
     "height": 217
    },
    "executionInfo": {
     "elapsed": 26,
     "status": "error",
     "timestamp": 1668506005093,
     "user": {
      "displayName": "ANA PASCUAL ARANDA",
      "userId": "13184162611344250840"
     },
     "user_tz": -60
    },
    "id": "DoSBm-7CgIki",
    "outputId": "a241caee-9fc4-4059-c13c-3862064c55a4"
   },
   "outputs": [
    {
     "name": "stdout",
     "output_type": "stream",
     "text": [
      "tales.txt\n"
     ]
    }
   ],
   "source": [
    "os.chdir('C:/Users/anapascual/cmepda')\n",
    "filename = input()\n",
    "with open(filename, 'r', encoding = 'UTF-8') as file:\n",
    "  lines = [line.rstrip() for line in file]"
   ]
  },
  {
   "cell_type": "code",
   "execution_count": 27,
   "metadata": {
    "colab": {
     "base_uri": "https://localhost:8080/",
     "height": 35
    },
    "executionInfo": {
     "elapsed": 264,
     "status": "ok",
     "timestamp": 1668702425619,
     "user": {
      "displayName": "ANA PASCUAL ARANDA",
      "userId": "13184162611344250840"
     },
     "user_tz": -60
    },
    "id": "B9kjr4f1jYf7",
    "outputId": "c2347c6f-7087-4611-f255-99f77cd306f5"
   },
   "outputs": [
    {
     "data": {
      "application/vnd.google.colaboratory.intrinsic+json": {
       "type": "string"
      },
      "text/plain": [
       "'tales.txt'"
      ]
     },
     "execution_count": 27,
     "metadata": {},
     "output_type": "execute_result"
    }
   ],
   "source": [
    "'''os.chdir('/content/drive/MyDrive/Colab Notebooks')\n",
    "filename = os.listdir()\n",
    "filename[10]'''\n"
   ]
  },
  {
   "cell_type": "code",
   "execution_count": 4,
   "metadata": {
    "colab": {
     "base_uri": "https://localhost:8080/"
    },
    "executionInfo": {
     "elapsed": 1550,
     "status": "ok",
     "timestamp": 1668702431049,
     "user": {
      "displayName": "ANA PASCUAL ARANDA",
      "userId": "13184162611344250840"
     },
     "user_tz": -60
    },
    "id": "7uMkfRiWccuu",
    "outputId": "1f0e622d-c074-4ae4-b3bf-02c98684b0ea"
   },
   "outputs": [
    {
     "ename": "IndexError",
     "evalue": "string index out of range",
     "output_type": "error",
     "traceback": [
      "\u001b[1;31m---------------------------------------------------------------------------\u001b[0m",
      "\u001b[1;31mIndexError\u001b[0m                                Traceback (most recent call last)",
      "\u001b[1;32mC:\\Users\\ANAPAS~1\\AppData\\Local\\Temp/ipykernel_7820/2453699274.py\u001b[0m in \u001b[0;36m<module>\u001b[1;34m\u001b[0m\n\u001b[1;32m----> 1\u001b[1;33m \u001b[1;32mwith\u001b[0m \u001b[0mopen\u001b[0m\u001b[1;33m(\u001b[0m\u001b[0mfilename\u001b[0m\u001b[1;33m[\u001b[0m\u001b[1;36m10\u001b[0m\u001b[1;33m]\u001b[0m\u001b[1;33m,\u001b[0m \u001b[1;34m'r'\u001b[0m\u001b[1;33m,\u001b[0m \u001b[0mencoding\u001b[0m \u001b[1;33m=\u001b[0m \u001b[1;34m'UTF-8'\u001b[0m\u001b[1;33m)\u001b[0m \u001b[1;32mas\u001b[0m \u001b[0mfile\u001b[0m\u001b[1;33m:\u001b[0m\u001b[1;33m\u001b[0m\u001b[1;33m\u001b[0m\u001b[0m\n\u001b[0m\u001b[0;32m      2\u001b[0m     \u001b[0mlines\u001b[0m \u001b[1;33m=\u001b[0m \u001b[1;33m[\u001b[0m\u001b[0mline\u001b[0m\u001b[1;33m.\u001b[0m\u001b[0mrstrip\u001b[0m\u001b[1;33m(\u001b[0m\u001b[1;33m)\u001b[0m \u001b[1;32mfor\u001b[0m \u001b[0mline\u001b[0m \u001b[1;32min\u001b[0m \u001b[0mfile\u001b[0m\u001b[1;33m]\u001b[0m\u001b[1;33m\u001b[0m\u001b[1;33m\u001b[0m\u001b[0m\n\u001b[0;32m      3\u001b[0m     \u001b[0mprint\u001b[0m\u001b[1;33m(\u001b[0m\u001b[0mlines\u001b[0m\u001b[1;33m)\u001b[0m\u001b[1;33m\u001b[0m\u001b[1;33m\u001b[0m\u001b[0m\n",
      "\u001b[1;31mIndexError\u001b[0m: string index out of range"
     ]
    }
   ],
   "source": [
    "with open(filename[10], 'r', encoding = 'UTF-8') as file:\n",
    "    lines = [line.rstrip() for line in file]\n",
    "    print(lines)"
   ]
  },
  {
   "cell_type": "code",
   "execution_count": null,
   "metadata": {
    "colab": {
     "base_uri": "https://localhost:8080/"
    },
    "executionInfo": {
     "elapsed": 234,
     "status": "ok",
     "timestamp": 1668508698632,
     "user": {
      "displayName": "ANA PASCUAL ARANDA",
      "userId": "13184162611344250840"
     },
     "user_tz": -60
    },
    "id": "rrnEJ1oX3i70",
    "outputId": "19f2f28e-6dc5-4112-dc76-17fad93bca3e"
   },
   "outputs": [
    {
     "data": {
      "text/plain": [
       "str"
      ]
     },
     "execution_count": 18,
     "metadata": {},
     "output_type": "execute_result"
    }
   ],
   "source": [
    "#type(l[0])"
   ]
  },
  {
   "cell_type": "code",
   "execution_count": 7,
   "metadata": {
    "executionInfo": {
     "elapsed": 2982,
     "status": "ok",
     "timestamp": 1668700730444,
     "user": {
      "displayName": "ANA PASCUAL ARANDA",
      "userId": "13184162611344250840"
     },
     "user_tz": -60
    },
    "id": "WF5yjriKdATR"
   },
   "outputs": [],
   "source": [
    "'''txt = ''\n",
    "l = []\n",
    "for line in lines:\n",
    "  txt = os.path.join(txt, line.translate(str.maketrans('', '', string.punctuation)))\n",
    "\n",
    "#TRY TO REMOVE WHITESPACES, DOTS, COLONS, ...\n",
    "txt.replace(\" \", \"\")\n",
    "l = list(txt)\n",
    "l.sort()\n",
    "i = 0\n",
    "count = {}\n",
    "l[0]\n",
    "l[237634]\n",
    "length = len(l)'''"
   ]
  },
  {
   "cell_type": "code",
   "execution_count": null,
   "metadata": {
    "colab": {
     "base_uri": "https://localhost:8080/"
    },
    "executionInfo": {
     "elapsed": 897,
     "status": "ok",
     "timestamp": 1668509670314,
     "user": {
      "displayName": "ANA PASCUAL ARANDA",
      "userId": "13184162611344250840"
     },
     "user_tz": -60
    },
    "id": "Ptz6s3aR7GG3",
    "outputId": "86e354f5-5b80-486d-afc4-ed1964e654f7"
   },
   "outputs": [
    {
     "name": "stderr",
     "output_type": "stream",
     "text": [
      "IOPub data rate exceeded.\n",
      "The notebook server will temporarily stop sending output\n",
      "to the client in order to avoid crashing it.\n",
      "To change this limit, set the config variable\n",
      "`--NotebookApp.iopub_data_rate_limit`.\n",
      "\n",
      "Current values:\n",
      "NotebookApp.iopub_data_rate_limit=1000000.0 (bytes/sec)\n",
      "NotebookApp.rate_limit_window=3.0 (secs)\n",
      "\n"
     ]
    }
   ],
   "source": [
    "#print(l)"
   ]
  },
  {
   "cell_type": "code",
   "execution_count": null,
   "metadata": {
    "colab": {
     "base_uri": "https://localhost:8080/",
     "height": 235
    },
    "executionInfo": {
     "elapsed": 274,
     "status": "error",
     "timestamp": 1668509592078,
     "user": {
      "displayName": "ANA PASCUAL ARANDA",
      "userId": "13184162611344250840"
     },
     "user_tz": -60
    },
    "id": "BXsOXCzF4bSe",
    "outputId": "60dd9143-fe19-4f23-c635-e0b9e20136f1"
   },
   "outputs": [
    {
     "ename": "IndexError",
     "evalue": "ignored",
     "output_type": "error",
     "traceback": [
      "\u001b[0;31m---------------------------------------------------------------------------\u001b[0m",
      "\u001b[0;31mIndexError\u001b[0m                                Traceback (most recent call last)",
      "\u001b[0;32m<ipython-input-39-719f70b67f27>\u001b[0m in \u001b[0;36m<module>\u001b[0;34m\u001b[0m\n\u001b[1;32m      5\u001b[0m   \u001b[0;32mif\u001b[0m \u001b[0mv\u001b[0m \u001b[0;34m==\u001b[0m \u001b[0mprimo\u001b[0m\u001b[0;34m:\u001b[0m\u001b[0;34m\u001b[0m\u001b[0;34m\u001b[0m\u001b[0m\n\u001b[1;32m      6\u001b[0m     \u001b[0mi\u001b[0m \u001b[0;34m+=\u001b[0m \u001b[0;36m1\u001b[0m\u001b[0;34m\u001b[0m\u001b[0;34m\u001b[0m\u001b[0m\n\u001b[0;32m----> 7\u001b[0;31m     \u001b[0mprint\u001b[0m\u001b[0;34m(\u001b[0m\u001b[0mi\u001b[0m\u001b[0;34m,\u001b[0m \u001b[0ml\u001b[0m\u001b[0;34m[\u001b[0m\u001b[0mi\u001b[0m\u001b[0;34m]\u001b[0m\u001b[0;34m)\u001b[0m\u001b[0;34m\u001b[0m\u001b[0;34m\u001b[0m\u001b[0m\n\u001b[0m\u001b[1;32m      8\u001b[0m   \u001b[0;32melse\u001b[0m\u001b[0;34m:\u001b[0m\u001b[0;34m\u001b[0m\u001b[0;34m\u001b[0m\u001b[0m\n\u001b[1;32m      9\u001b[0m     \u001b[0mcount\u001b[0m\u001b[0;34m[\u001b[0m\u001b[0ml\u001b[0m\u001b[0;34m[\u001b[0m\u001b[0mi\u001b[0m\u001b[0;34m]\u001b[0m\u001b[0;34m]\u001b[0m \u001b[0;34m=\u001b[0m \u001b[0mi\u001b[0m\u001b[0;34m\u001b[0m\u001b[0;34m\u001b[0m\u001b[0m\n",
      "\u001b[0;31mIndexError\u001b[0m: list index out of range"
     ]
    }
   ],
   "source": [
    "'''i = 0\n",
    "while len(l) > 0:\n",
    "  primo = l[0]\n",
    "  v = l[i]\n",
    "  if v == primo:\n",
    "    i += 1\n",
    "    print(i, l[i])\n",
    "  else:    \n",
    "    count[l[i]] = i\n",
    "    l = l[i:]    \n",
    "    i = 0'''"
   ]
  },
  {
   "cell_type": "code",
   "execution_count": null,
   "metadata": {
    "id": "zljWwmQT5rrN"
   },
   "outputs": [],
   "source": [
    "'''for x in range(len(l)):\n",
    "  v = l[i]\n",
    "  if v == l[0]:\n",
    "    i += 1\n",
    "  else:    \n",
    "    count[l[i]] = i\n",
    "    l = l[i:]\n",
    "    length = len(l)\n",
    "    i = 0'''"
   ]
  },
  {
   "cell_type": "markdown",
   "metadata": {
    "id": "mm1xuFIn7sKS"
   },
   "source": [
    "altra prova"
   ]
  },
  {
   "cell_type": "code",
   "execution_count": 32,
   "metadata": {
    "colab": {
     "base_uri": "https://localhost:8080/",
     "height": 235
    },
    "executionInfo": {
     "elapsed": 281247,
     "status": "error",
     "timestamp": 1668703300320,
     "user": {
      "displayName": "ANA PASCUAL ARANDA",
      "userId": "13184162611344250840"
     },
     "user_tz": -60
    },
    "id": "iY4598Bk7rNe",
    "outputId": "39af57fd-f79e-4a5e-f360-b60353da4800"
   },
   "outputs": [
    {
     "ename": "KeyboardInterrupt",
     "evalue": "ignored",
     "output_type": "error",
     "traceback": [
      "\u001b[0;31m---------------------------------------------------------------------------\u001b[0m",
      "\u001b[0;31mKeyboardInterrupt\u001b[0m                         Traceback (most recent call last)",
      "\u001b[0;32m<ipython-input-32-aaa24be71d1b>\u001b[0m in \u001b[0;36m<module>\u001b[0;34m\u001b[0m\n\u001b[1;32m     23\u001b[0m         \u001b[0mcount\u001b[0m\u001b[0;34m[\u001b[0m\u001b[0mprimo\u001b[0m\u001b[0;34m]\u001b[0m \u001b[0;34m=\u001b[0m \u001b[0mi\u001b[0m\u001b[0;34m\u001b[0m\u001b[0;34m\u001b[0m\u001b[0m\n\u001b[1;32m     24\u001b[0m       \u001b[0;31m#print(count)\u001b[0m\u001b[0;34m\u001b[0m\u001b[0;34m\u001b[0m\u001b[0;34m\u001b[0m\u001b[0m\n\u001b[0;32m---> 25\u001b[0;31m       \u001b[0ml\u001b[0m \u001b[0;34m=\u001b[0m \u001b[0ml\u001b[0m\u001b[0;34m[\u001b[0m\u001b[0mi\u001b[0m\u001b[0;34m:\u001b[0m\u001b[0;34m]\u001b[0m\u001b[0;34m\u001b[0m\u001b[0;34m\u001b[0m\u001b[0m\n\u001b[0m\u001b[1;32m     26\u001b[0m       \u001b[0;31m#print(len(l))\u001b[0m\u001b[0;34m\u001b[0m\u001b[0;34m\u001b[0m\u001b[0;34m\u001b[0m\u001b[0m\n\u001b[1;32m     27\u001b[0m       \u001b[0mi\u001b[0m \u001b[0;34m=\u001b[0m \u001b[0;36m0\u001b[0m\u001b[0;34m\u001b[0m\u001b[0;34m\u001b[0m\u001b[0m\n",
      "\u001b[0;31mKeyboardInterrupt\u001b[0m: "
     ]
    }
   ],
   "source": [
    "txt = ''\n",
    "#l = []\n",
    "count = {}\n",
    "t0 = time.time()\n",
    "for line in lines:\n",
    "  txt = os.path.join(txt, line.translate(str.maketrans('', '', string.punctuation)))\n",
    "  txt.strip()\n",
    "  txt = txt.lower()\n",
    "  #print(txt)\n",
    "  l = list(txt)\n",
    "  l.sort()\n",
    "  #print(l)\n",
    "  i = 0\n",
    "  #print(len(l))\n",
    "  while len(l) > 0:\n",
    "    primo = l[0]\n",
    "    #v = l[i]\n",
    "    if i < len(l) and l[i] == primo:\n",
    "      i += 1\n",
    "    else:\n",
    "      if primo in count == True:\n",
    "        count[primo].append(i)\n",
    "      else:\n",
    "        count[primo] = i\n",
    "      #print(count)\n",
    "      l = l[i:]\n",
    "      #print(len(l))\n",
    "      i = 0\n",
    "how_much_time = time.time() - t0\n",
    "print(f'The program has been running for: {how_much_time}')\n",
    "print(count)"
   ]
  }
 ],
 "metadata": {
  "colab": {
   "authorship_tag": "ABX9TyPoA3BLGR6suKFS6rkbzYOw",
   "mount_file_id": "1PwhnRl6DWZ3QvruN_HsBT_Z0E3T2DdyO",
   "provenance": []
  },
  "kernelspec": {
   "display_name": "Python 3 (ipykernel)",
   "language": "python",
   "name": "python3"
  },
  "language_info": {
   "codemirror_mode": {
    "name": "ipython",
    "version": 3
   },
   "file_extension": ".py",
   "mimetype": "text/x-python",
   "name": "python",
   "nbconvert_exporter": "python",
   "pygments_lexer": "ipython3",
   "version": "3.9.7"
  }
 },
 "nbformat": 4,
 "nbformat_minor": 1
}
